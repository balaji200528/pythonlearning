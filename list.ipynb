{
 "cells": [
  {
   "cell_type": "code",
   "execution_count": 4,
   "id": "23072d9d",
   "metadata": {},
   "outputs": [
    {
     "name": "stdout",
     "output_type": "stream",
     "text": [
      "5\n"
     ]
    }
   ],
   "source": [
    "li=[\"water\",\"rooter\",\"three\",\"four\",5]\n",
    "print(li[-1])"
   ]
  },
  {
   "cell_type": "code",
   "execution_count": 5,
   "id": "40315201",
   "metadata": {},
   "outputs": [
    {
     "data": {
      "text/plain": [
       "['rooter', 'three', 'four', 5]"
      ]
     },
     "execution_count": 5,
     "metadata": {},
     "output_type": "execute_result"
    }
   ],
   "source": [
    "li[1:]"
   ]
  },
  {
   "cell_type": "code",
   "execution_count": 6,
   "id": "4238d7ae",
   "metadata": {},
   "outputs": [
    {
     "data": {
      "text/plain": [
       "[5]"
      ]
     },
     "execution_count": 6,
     "metadata": {},
     "output_type": "execute_result"
    }
   ],
   "source": [
    "li[-1:\n",
    "   ]"
   ]
  },
  {
   "cell_type": "code",
   "execution_count": 7,
   "id": "c85e4a61",
   "metadata": {},
   "outputs": [
    {
     "data": {
      "text/plain": [
       "['rooter', 'three', 'four', 5]"
      ]
     },
     "execution_count": 7,
     "metadata": {},
     "output_type": "execute_result"
    }
   ],
   "source": [
    "li[1:]"
   ]
  },
  {
   "cell_type": "code",
   "execution_count": 8,
   "id": "61d678bf",
   "metadata": {},
   "outputs": [],
   "source": [
    "li[1:]=\"watermelon\""
   ]
  },
  {
   "cell_type": "code",
   "execution_count": 12,
   "id": "32363f1f",
   "metadata": {},
   "outputs": [],
   "source": [
    "li[4]=\"hi\""
   ]
  },
  {
   "cell_type": "code",
   "execution_count": 13,
   "id": "4ce671f0",
   "metadata": {},
   "outputs": [
    {
     "data": {
      "text/plain": [
       "['water', 'w', 'a', 't', 'hi', 'r', 'm', 'e', 'l', 'o', 'n']"
      ]
     },
     "execution_count": 13,
     "metadata": {},
     "output_type": "execute_result"
    }
   ],
   "source": [
    "li"
   ]
  },
  {
   "cell_type": "code",
   "execution_count": 14,
   "id": "7b62f1e0",
   "metadata": {},
   "outputs": [],
   "source": [
    "#to add aelemt at the end of the list\n",
    "li.append(\"good morning\")"
   ]
  },
  {
   "cell_type": "code",
   "execution_count": 15,
   "id": "fd82fc61",
   "metadata": {},
   "outputs": [
    {
     "data": {
      "text/plain": [
       "['water', 'w', 'a', 't', 'hi', 'r', 'm', 'e', 'l', 'o', 'n', 'good morning']"
      ]
     },
     "execution_count": 15,
     "metadata": {},
     "output_type": "execute_result"
    }
   ],
   "source": [
    "li"
   ]
  },
  {
   "cell_type": "code",
   "execution_count": null,
   "id": "3e8c84d4",
   "metadata": {},
   "outputs": [
    {
     "data": {
      "text/plain": [
       "['moon',\n",
       " 'star',\n",
       " 'water',\n",
       " 'w',\n",
       " 'a',\n",
       " 't',\n",
       " 'hi',\n",
       " 'r',\n",
       " 'm',\n",
       " 'e',\n",
       " 'l',\n",
       " 'o',\n",
       " 'n',\n",
       " 'good morning']"
      ]
     },
     "execution_count": 17,
     "metadata": {},
     "output_type": "execute_result"
    }
   ],
   "source": [
    "#to add an item at a specify index we use insert method\n",
    "li.insert(0,\"moon\")\n",
    "li"
   ]
  },
  {
   "cell_type": "code",
   "execution_count": 18,
   "id": "bdfd680a",
   "metadata": {},
   "outputs": [],
   "source": [
    "#removing the first occurance defined item\n",
    "li.remove(\"m\")"
   ]
  },
  {
   "cell_type": "code",
   "execution_count": 19,
   "id": "4d291db2",
   "metadata": {},
   "outputs": [
    {
     "data": {
      "text/plain": [
       "['moon',\n",
       " 'star',\n",
       " 'water',\n",
       " 'w',\n",
       " 'a',\n",
       " 't',\n",
       " 'hi',\n",
       " 'r',\n",
       " 'e',\n",
       " 'l',\n",
       " 'o',\n",
       " 'n',\n",
       " 'good morning']"
      ]
     },
     "execution_count": 19,
     "metadata": {},
     "output_type": "execute_result"
    }
   ],
   "source": [
    "li"
   ]
  },
  {
   "cell_type": "code",
   "execution_count": 21,
   "id": "42edd572",
   "metadata": {},
   "outputs": [
    {
     "name": "stdout",
     "output_type": "stream",
     "text": [
      "cactus\n",
      "['apple', 'orange', 'carrot', 'beans', 'watermelon']\n"
     ]
    }
   ],
   "source": [
    "list1=[\"apple\",\"orange\",\"carrot\",\"beans\",\"watermelon\",\"cactus\"]\n",
    "popped_item = list1.pop()\n",
    "print(popped_item)\n",
    "print(list1)"
   ]
  },
  {
   "cell_type": "code",
   "execution_count": 23,
   "id": "a3d3241f",
   "metadata": {},
   "outputs": [
    {
     "data": {
      "text/plain": [
       "['watermelon', 'beans', 'carrot', 'orange', 'apple']"
      ]
     },
     "execution_count": 23,
     "metadata": {},
     "output_type": "execute_result"
    }
   ],
   "source": [
    "list1.reverse()\n",
    "list1"
   ]
  },
  {
   "cell_type": "code",
   "execution_count": 26,
   "id": "97c7bc6a",
   "metadata": {},
   "outputs": [],
   "source": [
    "list1.clear()"
   ]
  },
  {
   "cell_type": "code",
   "execution_count": 27,
   "id": "43aef17f",
   "metadata": {},
   "outputs": [
    {
     "data": {
      "text/plain": [
       "[]"
      ]
     },
     "execution_count": 27,
     "metadata": {},
     "output_type": "execute_result"
    }
   ],
   "source": [
    "list1"
   ]
  },
  {
   "cell_type": "code",
   "execution_count": null,
   "id": "be0f4e4b",
   "metadata": {},
   "outputs": [
    {
     "name": "stdout",
     "output_type": "stream",
     "text": [
      "['Apple', 'Mango', 'apple', 'banana', 'mango', 'muskmelon', 'pomegranate', 'watermelon']\n"
     ]
    },
    {
     "data": {
      "text/plain": [
       "'\\n\\nPython compares ASCII/Unicode values of characters.\\nUppercase letters (A–Z) come before lowercase letters (a–z).\\n\\'A\\' has ASCII value 65\\n\\'a\\' has ASCII value 97\\nThat’s why \"Apple\" comes before \"apple\".\\n\\n'"
      ]
     },
     "execution_count": 29,
     "metadata": {},
     "output_type": "execute_result"
    }
   ],
   "source": [
    "fruits = [\"apple\", \"banana\", \"mango\", \"pomegranate\", \"watermelon\", \"muskmelon\", \"Apple\", \"Mango\"]\n",
    "fruits.sort()\n",
    "print(fruits)\n",
    "\n",
    "'''\n",
    "\n",
    "Python compares ASCII/Unicode values of characters.\n",
    "Uppercase letters (A–Z) come before lowercase letters (a–z).\n",
    "'A' has ASCII value 65\n",
    "'a' has ASCII value 97\n",
    "That’s why \"Apple\" comes before \"apple\".\n",
    "\n",
    "'''\n"
   ]
  },
  {
   "cell_type": "code",
   "execution_count": 31,
   "id": "c5c9cfe5",
   "metadata": {},
   "outputs": [
    {
     "data": {
      "text/plain": [
       "['Apple',\n",
       " 'Mango',\n",
       " 'apple',\n",
       " 'mango',\n",
       " 'banana',\n",
       " 'muskmelon',\n",
       " 'watermelon',\n",
       " 'pomegranate']"
      ]
     },
     "execution_count": 31,
     "metadata": {},
     "output_type": "execute_result"
    }
   ],
   "source": [
    "#if we want to sort thewords based on their length then\n",
    "\n",
    "fruits.sort(key=len)\n",
    "fruits"
   ]
  },
  {
   "cell_type": "code",
   "execution_count": 45,
   "id": "ebcdf0a9",
   "metadata": {},
   "outputs": [
    {
     "name": "stdout",
     "output_type": "stream",
     "text": [
      "[90, 80, 70]\n"
     ]
    }
   ],
   "source": [
    "numbers = [10, 20, 30, 40, 50, 60, 70, 80, 90, 100]\n",
    "print(numbers[-2:5:-1])"
   ]
  },
  {
   "cell_type": "code",
   "execution_count": 46,
   "id": "1e6f2953",
   "metadata": {},
   "outputs": [
    {
     "name": "stdout",
     "output_type": "stream",
     "text": [
      "10\n",
      "20\n",
      "30\n",
      "40\n",
      "50\n",
      "60\n",
      "70\n",
      "80\n",
      "90\n",
      "100\n"
     ]
    }
   ],
   "source": [
    "for num in numbers:\n",
    "    print(num)"
   ]
  },
  {
   "cell_type": "code",
   "execution_count": 50,
   "id": "7a41a2d1",
   "metadata": {},
   "outputs": [
    {
     "name": "stdout",
     "output_type": "stream",
     "text": [
      "0 10\n",
      "1 20\n",
      "2 30\n",
      "3 40\n",
      "4 50\n",
      "5 60\n",
      "6 70\n",
      "7 80\n",
      "8 90\n",
      "9 100\n"
     ]
    }
   ],
   "source": [
    "for index,num in enumerate(numbers):\n",
    "    print(index,num)\n"
   ]
  },
  {
   "cell_type": "code",
   "execution_count": 56,
   "id": "26aa20c1",
   "metadata": {},
   "outputs": [
    {
     "name": "stdout",
     "output_type": "stream",
     "text": [
      "0\n",
      "1\n",
      "2\n",
      "3\n",
      "4\n",
      "5\n",
      "6\n",
      "7\n",
      "8\n",
      "9\n",
      "[0, 1, 2, 3, 4, 5, 6, 7, 8, 9]\n"
     ]
    }
   ],
   "source": [
    "lst=[]\n",
    "for i in range(0,10):\n",
    "    lst.append(i)\n",
    "    print(lst[i])\n",
    "print(lst)"
   ]
  },
  {
   "cell_type": "code",
   "execution_count": 70,
   "id": "089e80c6",
   "metadata": {},
   "outputs": [
    {
     "name": "stdout",
     "output_type": "stream",
     "text": [
      "1 0\n",
      "[2, 3, 4, 5, 6, 7, 8, 9, 10] 0\n",
      "3 1\n",
      "[2, 4, 5, 6, 7, 8, 9, 10] 1\n",
      "5 2\n",
      "[2, 4, 6, 7, 8, 9, 10] 2\n",
      "7 3\n",
      "[2, 4, 6, 8, 9, 10] 3\n",
      "[2, 4, 6, 8, 9, 10]\n"
     ]
    }
   ],
   "source": [
    "lst=[1,2,3,4,5,6,7,8,9,10]\n",
    "for num in range(len(lst)):\n",
    "    if(num<4):\n",
    "        # print(num)\n",
    "        print(lst[num],num)\n",
    "        lst.remove(lst[num])\n",
    "        print(lst,num)\n",
    "print(lst)\n",
    "        \n"
   ]
  },
  {
   "cell_type": "code",
   "execution_count": 71,
   "id": "1022a452",
   "metadata": {},
   "outputs": [
    {
     "name": "stdout",
     "output_type": "stream",
     "text": [
      "0 apple\n",
      "1 banana\n",
      "2 cherry\n"
     ]
    }
   ],
   "source": [
    "fruits = [\"apple\", \"banana\", \"cherry\"]\n",
    "\n",
    "for index, fruit in enumerate(fruits):\n",
    "    print(index, fruit)\n"
   ]
  },
  {
   "cell_type": "code",
   "execution_count": 72,
   "id": "37f34eb3",
   "metadata": {},
   "outputs": [
    {
     "name": "stdout",
     "output_type": "stream",
     "text": [
      "0 apple\n",
      "1 banana\n",
      "2 cherry\n"
     ]
    }
   ],
   "source": [
    "for i in range(len(fruits)):\n",
    "    print(i,fruits[i])"
   ]
  },
  {
   "cell_type": "code",
   "execution_count": null,
   "id": "2be2a290",
   "metadata": {},
   "outputs": [
    {
     "name": "stdout",
     "output_type": "stream",
     "text": [
      "1\n",
      "3\n",
      "5\n",
      "7\n",
      "9\n",
      "[1, 9, 25, 49, 81]\n"
     ]
    }
   ],
   "source": [
    " "
   ]
  },
  {
   "cell_type": "code",
   "execution_count": null,
   "id": "ad50ad68",
   "metadata": {},
   "outputs": [
    {
     "data": {
      "text/plain": [
       "[0, 1, 2, 3, 4, 5, 6, 7, 8, 9]"
      ]
     },
     "execution_count": 84,
     "metadata": {},
     "output_type": "execute_result"
    }
   ],
   "source": [
    "#list compreshension \n",
    "[x for x in range(10)]"
   ]
  },
  {
   "cell_type": "code",
   "execution_count": 3,
   "id": "56e2fad5",
   "metadata": {},
   "outputs": [
    {
     "data": {
      "text/plain": [
       "'\\n'"
      ]
     },
     "execution_count": 3,
     "metadata": {},
     "output_type": "execute_result"
    }
   ],
   "source": [
    "'''\n",
    "'''"
   ]
  },
  {
   "cell_type": "code",
   "execution_count": 4,
   "id": "0268f07f",
   "metadata": {},
   "outputs": [
    {
     "name": "stdout",
     "output_type": "stream",
     "text": [
      "[[1, 'a'], [2, 'b'], [3, 'c'], [4, 'd'], [5, 'e'], [6, 'f']]\n"
     ]
    }
   ],
   "source": [
    "lst1=[1,2,3,4,5,6]\n",
    "lst2=[\"a\",\"b\",\"c\",\"d\",\"e\",\"f\"]\n",
    "lst3=[]\n",
    "count=0\n",
    "for i in range(len(lst1)):\n",
    "    count=0\n",
    "    for j in range(i,len(lst2)):\n",
    "        if count<1:\n",
    "            lst3.append([lst1[i],lst2[j]])\n",
    "            count=1\n",
    "\n",
    "print(lst3)"
   ]
  },
  {
   "cell_type": "code",
   "execution_count": 13,
   "id": "59d8f5a0",
   "metadata": {},
   "outputs": [
    {
     "name": "stdout",
     "output_type": "stream",
     "text": [
      "[[1, 'a'], [2, 'b'], [3, 'c'], [4, 'd'], [5, 'e'], [6, 'f']]\n"
     ]
    }
   ],
   "source": [
    "lst1=[1,2,3,4,5,6]\n",
    "lst2=[\"a\",\"b\",\"c\",\"d\",\"e\",\"f\"]\n",
    "lst3=[]\n",
    "\n",
    "for i,num in enumerate(lst1):\n",
    "    lst3.append([num,lst2[i]])\n",
    "\n",
    "print(lst3)\n"
   ]
  },
  {
   "cell_type": "code",
   "execution_count": null,
   "id": "be817b60",
   "metadata": {},
   "outputs": [],
   "source": []
  }
 ],
 "metadata": {
  "kernelspec": {
   "display_name": "myenv",
   "language": "python",
   "name": "python3"
  },
  "language_info": {
   "codemirror_mode": {
    "name": "ipython",
    "version": 3
   },
   "file_extension": ".py",
   "mimetype": "text/x-python",
   "name": "python",
   "nbconvert_exporter": "python",
   "pygments_lexer": "ipython3",
   "version": "3.10.11"
  }
 },
 "nbformat": 4,
 "nbformat_minor": 5
}
