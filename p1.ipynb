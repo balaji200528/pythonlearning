{
 "cells": [
  {
   "cell_type": "code",
   "execution_count": 1,
   "id": "0b52adea",
   "metadata": {},
   "outputs": [
    {
     "data": {
      "text/plain": [
       "2"
      ]
     },
     "execution_count": 1,
     "metadata": {},
     "output_type": "execute_result"
    }
   ],
   "source": [
    "1+1"
   ]
  },
  {
   "cell_type": "code",
   "execution_count": null,
   "id": "d5756f5f",
   "metadata": {},
   "outputs": [],
   "source": [
    "num1=float(input(\"enter the number\"))\n",
    "num2=float(input(\"enter the second number\"))\n",
    "symbol=input(\"enter the symbol\")\n",
    "match symbol:\n",
    "  case \"+\":\n",
    "    print(num1 + num2)\n",
    "  case \"-\":\n",
    "    print(num1 - num2)\n",
    "  case \"*\":\n",
    "    print(num1 * num2)\n",
    "  case \"/\":\n",
    "    print(num1 / num2)\n",
    "  case _:\n",
    "    print(\"Invalid symbol\")"
   ]
  },
  {
   "cell_type": "code",
   "execution_count": null,
   "id": "d7b4816c",
   "metadata": {},
   "outputs": [
    {
     "data": {
      "text/plain": [
       "bool"
      ]
     },
     "execution_count": 9,
     "metadata": {},
     "output_type": "execute_result"
    }
   ],
   "source": [
    "a=10\n",
    "b=20\n",
    "\n",
    "type(a<b)"
   ]
  },
  {
   "cell_type": "code",
   "execution_count": 14,
   "id": "0a79830a",
   "metadata": {},
   "outputs": [
    {
     "name": "stdout",
     "output_type": "stream",
     "text": [
      "hello5\n"
     ]
    }
   ],
   "source": [
    "s= \"hello\"  + str(5)\n",
    "print(s)"
   ]
  },
  {
   "cell_type": "code",
   "execution_count": 16,
   "id": "233bbcd7",
   "metadata": {},
   "outputs": [
    {
     "name": "stdout",
     "output_type": "stream",
     "text": [
      "2.5 2 1\n"
     ]
    }
   ],
   "source": [
    "a=5/2\n",
    "b=5//2\n",
    "c=5%2\n",
    "print(a,b,c)\n"
   ]
  },
  {
   "cell_type": "code",
   "execution_count": 36,
   "id": "24cef242",
   "metadata": {},
   "outputs": [
    {
     "name": "stdout",
     "output_type": "stream",
     "text": [
      "2\n"
     ]
    }
   ],
   "source": [
    "# logical operators\n",
    "\n",
    "t=2\n",
    "\n",
    "p=3\n",
    "\n",
    "print(t or p)"
   ]
  },
  {
   "cell_type": "code",
   "execution_count": 31,
   "id": "ccbd519d",
   "metadata": {},
   "outputs": [
    {
     "name": "stdout",
     "output_type": "stream",
     "text": [
      "0\n",
      "0\n",
      "7\n",
      "\n"
     ]
    }
   ],
   "source": [
    "print(0 and 5)   # 0   (first is falsy, so stop there)\n",
    "print(5 and 0)   # 0   (first truthy, so return second)\n",
    "print(5 and 7)   # 7   (both truthy, return second)\n",
    "print(\"\" and 10) # \"\"  (empty string is falsy)/"
   ]
  },
  {
   "cell_type": "code",
   "execution_count": 6,
   "id": "80bb435f",
   "metadata": {},
   "outputs": [
    {
     "name": "stdout",
     "output_type": "stream",
     "text": [
      "it is not\n"
     ]
    }
   ],
   "source": [
    "num=int(input(\"enter the year\"))\n",
    "if num%4==0:\n",
    "    if num%100!=0:\n",
    "        if num%400==0:\n",
    "            print(f\"this year {num} is a leap year \")\n",
    "        else:\n",
    "            print(\"it is not\")\n",
    "    else:\n",
    "        print(\"this is a leap year\")\n",
    "else:\n",
    "    print(\"it is not a leap year\")\n",
    "\n"
   ]
  },
  {
   "cell_type": "code",
   "execution_count": 12,
   "id": "87109372",
   "metadata": {},
   "outputs": [
    {
     "name": "stdout",
     "output_type": "stream",
     "text": [
      "0\n",
      "2\n",
      "4\n",
      "6\n",
      "8\n"
     ]
    }
   ],
   "source": [
    "i=0\n",
    "for i in range(0,10,i+2):\n",
    "    print(i)"
   ]
  },
  {
   "cell_type": "code",
   "execution_count": 13,
   "id": "e676023b",
   "metadata": {},
   "outputs": [
    {
     "name": "stdout",
     "output_type": "stream",
     "text": [
      "10\n",
      "9\n",
      "8\n",
      "7\n",
      "6\n",
      "5\n",
      "4\n",
      "3\n",
      "2\n",
      "1\n"
     ]
    }
   ],
   "source": [
    "for i in range(10,0,-1):\n",
    "    print(i)"
   ]
  },
  {
   "cell_type": "code",
   "execution_count": 18,
   "id": "1c918208",
   "metadata": {},
   "outputs": [
    {
     "name": "stdout",
     "output_type": "stream",
     "text": [
      "1 e\n",
      "2 l\n",
      "3 l\n",
      "4 o\n",
      "5  \n",
      "6 w\n",
      "7 o\n",
      "8 r\n",
      "9 l\n",
      "10 d\n"
     ]
    }
   ],
   "source": [
    "t=\"hello world\"\n",
    "\n",
    "for i in range(1,len(t)):\n",
    "    print(i,t[i])"
   ]
  },
  {
   "cell_type": "code",
   "execution_count": 21,
   "id": "6f097f4f",
   "metadata": {},
   "outputs": [
    {
     "name": "stdout",
     "output_type": "stream",
     "text": [
      "0\n",
      "2\n",
      "4\n",
      "6\n",
      "8\n"
     ]
    }
   ],
   "source": [
    "for i in range(0,10,2):\n",
    "    if i==5:\n",
    "        break\n",
    "    print(i)"
   ]
  },
  {
   "cell_type": "code",
   "execution_count": 7,
   "id": "41304c30",
   "metadata": {},
   "outputs": [
    {
     "name": "stdout",
     "output_type": "stream",
     "text": [
      "55\n",
      "55\n"
     ]
    }
   ],
   "source": [
    "n=10\n",
    "count=1\n",
    "sum=0\n",
    "while count<=n:\n",
    "    sum=sum+count\n",
    "    count=count+1\n",
    "print(sum)\n",
    "\n",
    "print(int((n*(n+1))/2))\n"
   ]
  },
  {
   "cell_type": "code",
   "execution_count": 11,
   "id": "fa95b4b5",
   "metadata": {},
   "outputs": [
    {
     "name": "stdout",
     "output_type": "stream",
     "text": [
      "55\n"
     ]
    }
   ],
   "source": [
    "n=10\n",
    "sum=0\n",
    "count=1\n",
    "for i in range(n+1):\n",
    "   \n",
    "        sum=sum+i\n",
    "\n",
    "print(sum)"
   ]
  },
  {
   "cell_type": "code",
   "execution_count": 1,
   "id": "e6dce0e6",
   "metadata": {},
   "outputs": [
    {
     "name": "stdout",
     "output_type": "stream",
     "text": [
      "yes\n",
      "yes\n",
      "yes\n"
     ]
    }
   ],
   "source": [
    "num=int(input(\"enter\"))\n",
    "\n",
    "if num<=1:\n",
    "        print(\"no\")\n",
    "else:\n",
    "    for i in range(2,num):\n",
    "          if num%i==0:\n",
    "                print(\"no\")\n",
    "                break\n",
    "          else:\n",
    "                print(\"yes\")\n",
    "        "
   ]
  },
  {
   "cell_type": "code",
   "execution_count": null,
   "id": "a8088304",
   "metadata": {},
   "outputs": [],
   "source": []
  }
 ],
 "metadata": {
  "kernelspec": {
   "display_name": "myenv",
   "language": "python",
   "name": "python3"
  },
  "language_info": {
   "codemirror_mode": {
    "name": "ipython",
    "version": 3
   },
   "file_extension": ".py",
   "mimetype": "text/x-python",
   "name": "python",
   "nbconvert_exporter": "python",
   "pygments_lexer": "ipython3",
   "version": "3.10.11"
  }
 },
 "nbformat": 4,
 "nbformat_minor": 5
}
