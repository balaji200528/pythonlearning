{
 "cells": [
  {
   "cell_type": "code",
   "execution_count": 1,
   "id": "0b52adea",
   "metadata": {},
   "outputs": [
    {
     "data": {
      "text/plain": [
       "2"
      ]
     },
     "execution_count": 1,
     "metadata": {},
     "output_type": "execute_result"
    }
   ],
   "source": [
    "1+1"
   ]
  },
  {
   "cell_type": "code",
   "execution_count": null,
   "id": "d5756f5f",
   "metadata": {},
   "outputs": [],
   "source": [
    "num1=float(input(\"enter the number\"))\n",
    "num2=float(input(\"enter the second number\"))\n",
    "symbol=input(\"enter the symbol\")\n",
    "match symbol:\n",
    "  case \"+\":\n",
    "    print(num1 + num2)\n",
    "  case \"-\":\n",
    "    print(num1 - num2)\n",
    "  case \"*\":\n",
    "    print(num1 * num2)\n",
    "  case \"/\":\n",
    "    print(num1 / num2)\n",
    "  case _:\n",
    "    print(\"Invalid symbol\")"
   ]
  },
  {
   "cell_type": "code",
   "execution_count": 9,
   "id": "d7b4816c",
   "metadata": {},
   "outputs": [
    {
     "data": {
      "text/plain": [
       "bool"
      ]
     },
     "execution_count": 9,
     "metadata": {},
     "output_type": "execute_result"
    }
   ],
   "source": [
    " a=10\n",
    " b=20\n",
    "\n",
    " type(a<b)"
   ]
  },
  {
   "cell_type": "code",
   "execution_count": 14,
   "id": "0a79830a",
   "metadata": {},
   "outputs": [
    {
     "name": "stdout",
     "output_type": "stream",
     "text": [
      "hello5\n"
     ]
    }
   ],
   "source": [
    "s= \"hello\"  + str(5)\n",
    "print(s)"
   ]
  },
  {
   "cell_type": "code",
   "execution_count": null,
   "id": "adc4e278",
   "metadata": {},
   "outputs": [],
   "source": []
  },
  {
   "cell_type": "code",
   "execution_count": null,
   "id": "744dd665",
   "metadata": {},
   "outputs": [],
   "source": [
    "str."
   ]
  },
  {
   "cell_type": "code",
   "execution_count": 16,
   "id": "233bbcd7",
   "metadata": {},
   "outputs": [
    {
     "name": "stdout",
     "output_type": "stream",
     "text": [
      "2.5 2 1\n"
     ]
    }
   ],
   "source": [
    "a=5/2\n",
    "b=5//2\n",
    "c=5%2\n",
    "print(a,b,c)\n"
   ]
  },
  {
   "cell_type": "code",
   "execution_count": 36,
   "id": "24cef242",
   "metadata": {},
   "outputs": [
    {
     "name": "stdout",
     "output_type": "stream",
     "text": [
      "2\n"
     ]
    }
   ],
   "source": [
    "# logical operators\n",
    "\n",
    "t=2\n",
    "\n",
    "p=3\n",
    "\n",
    "print(t or p)"
   ]
  },
  {
   "cell_type": "code",
   "execution_count": 31,
   "id": "ccbd519d",
   "metadata": {},
   "outputs": [
    {
     "name": "stdout",
     "output_type": "stream",
     "text": [
      "0\n",
      "0\n",
      "7\n",
      "\n"
     ]
    }
   ],
   "source": [
    "print(0 and 5)   # 0   (first is falsy, so stop there)\n",
    "print(5 and 0)   # 0   (first truthy, so return second)\n",
    "print(5 and 7)   # 7   (both truthy, return second)\n",
    "print(\"\" and 10) # \"\"  (empty string is falsy)/"
   ]
  },
  {
   "cell_type": "code",
   "execution_count": null,
   "id": "80bb435f",
   "metadata": {},
   "outputs": [],
   "source": []
  }
 ],
 "metadata": {
  "kernelspec": {
   "display_name": "myenv",
   "language": "python",
   "name": "python3"
  },
  "language_info": {
   "codemirror_mode": {
    "name": "ipython",
    "version": 3
   },
   "file_extension": ".py",
   "mimetype": "text/x-python",
   "name": "python",
   "nbconvert_exporter": "python",
   "pygments_lexer": "ipython3",
   "version": "3.10.11"
  }
 },
 "nbformat": 4,
 "nbformat_minor": 5
}
