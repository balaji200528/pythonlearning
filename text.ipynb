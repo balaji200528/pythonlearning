{
 "cells": [
  {
   "cell_type": "code",
   "execution_count": 6,
   "id": "3f43f8c2",
   "metadata": {},
   "outputs": [
    {
     "data": {
      "text/plain": [
       "2"
      ]
     },
     "execution_count": 6,
     "metadata": {},
     "output_type": "execute_result"
    }
   ],
   "source": [
    "1+1"
   ]
  },
  {
   "cell_type": "code",
   "execution_count": 7,
   "id": "231d94c7",
   "metadata": {},
   "outputs": [
    {
     "name": "stdout",
     "output_type": "stream",
     "text": [
      "my age is: 20\n"
     ]
    }
   ],
   "source": [
    "age=20\n",
    "print(\"my age is:\", age)"
   ]
  },
  {
   "cell_type": "code",
   "execution_count": 19,
   "id": "75e61c7e",
   "metadata": {},
   "outputs": [
    {
     "name": "stdout",
     "output_type": "stream",
     "text": [
      "j\n"
     ]
    }
   ],
   "source": [
    "age=input(\"Enter your name\")\n",
    "print(age)"
   ]
  },
  {
   "cell_type": "code",
   "execution_count": 20,
   "id": "d73e8fc0",
   "metadata": {},
   "outputs": [],
   "source": [
    "f=5.34"
   ]
  },
  {
   "cell_type": "code",
   "execution_count": 22,
   "id": "aa7d5cd2",
   "metadata": {},
   "outputs": [
    {
     "name": "stdout",
     "output_type": "stream",
     "text": [
      "5.34\n"
     ]
    }
   ],
   "source": [
    "print(float)"
   ]
  },
  {
   "cell_type": "code",
   "execution_count": 23,
   "id": "c98f6660",
   "metadata": {},
   "outputs": [],
   "source": [
    "import builtins\n",
    "\n",
    "# Restore the original float\n",
    "float = builtins.float\n"
   ]
  },
  {
   "cell_type": "code",
   "execution_count": 24,
   "id": "94516a90",
   "metadata": {},
   "outputs": [
    {
     "name": "stdout",
     "output_type": "stream",
     "text": [
      "<class 'float'>\n"
     ]
    }
   ],
   "source": [
    "print(float)"
   ]
  },
  {
   "cell_type": "code",
   "execution_count": 31,
   "id": "843c5f20",
   "metadata": {},
   "outputs": [
    {
     "name": "stdout",
     "output_type": "stream",
     "text": [
      "ds <class 'str'>\n"
     ]
    }
   ],
   "source": [
    "age1=input(\"what is the age\")\n",
    "print(age1,type(age1))"
   ]
  },
  {
   "cell_type": "code",
   "execution_count": 35,
   "id": "5a7b1b97",
   "metadata": {},
   "outputs": [
    {
     "name": "stdout",
     "output_type": "stream",
     "text": [
      "24.0\n"
     ]
    }
   ],
   "source": [
    "num1=float(input(\"enter the number\"))\n",
    "num2=float(input(\"enter the second number\"))\n",
    "symbol=input(\"enter the symbol\")\n",
    "match symbol:\n",
    "  case \"+\":\n",
    "    print(num1 + num2)\n",
    "  case \"-\":\n",
    "    print(num1 - num2)\n",
    "  case \"*\":\n",
    "    print(num1 * num2)\n",
    "  case \"/\":\n",
    "    print(num1 / num2)\n",
    "  case _:\n",
    "    print(\"Invalid symbol\")\n"
   ]
  },
  {
   "cell_type": "code",
   "execution_count": 34,
   "id": "99aee451",
   "metadata": {},
   "outputs": [],
   "source": [
    "import builtins\n",
    "\n",
    "float =builtins.float"
   ]
  },
  {
   "cell_type": "code",
   "execution_count": null,
   "id": "8fa62ed5",
   "metadata": {},
   "outputs": [],
   "source": []
  }
 ],
 "metadata": {
  "kernelspec": {
   "display_name": "myenv",
   "language": "python",
   "name": "python3"
  },
  "language_info": {
   "codemirror_mode": {
    "name": "ipython",
    "version": 3
   },
   "file_extension": ".py",
   "mimetype": "text/x-python",
   "name": "python",
   "nbconvert_exporter": "python",
   "pygments_lexer": "ipython3",
   "version": "3.10.11"
  }
 },
 "nbformat": 4,
 "nbformat_minor": 5
}
